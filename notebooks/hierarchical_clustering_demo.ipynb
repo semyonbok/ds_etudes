{
 "cells": [
  {
   "cell_type": "markdown",
   "metadata": {},
   "source": [
    "# Hierarchical Clustering Interactive Demo"
   ]
  },
  {
   "cell_type": "code",
   "execution_count": 1,
   "metadata": {},
   "outputs": [],
   "source": [
    "import numpy as np\n",
    "import matplotlib.pyplot as plt\n",
    "from ipywidgets import (\n",
    "    HBox, VBox, interactive_output, Dropdown,\n",
    "    FloatSlider, IntSlider,\n",
    "    Checkbox\n",
    ")\n",
    "from scipy.cluster.hierarchy import dendrogram, linkage, fcluster"
   ]
  },
  {
   "cell_type": "code",
   "execution_count": 2,
   "metadata": {},
   "outputs": [],
   "source": [
    "def update_plot(\n",
    "    method, metric, color_threshold, criterion, cut_value, depth_value,\n",
    "    display_true_labels\n",
    "):\n",
    "    \"\"\"\n",
    "    - method, metric, color_threshold are used for the dendrogram\n",
    "    - criterion, cut_value, depth_value are used for fcluster\n",
    "    - display_true_labels is used to display true cluster allocation\n",
    "    \"\"\"\n",
    "\n",
    "    # Perform hierarchical clustering\n",
    "    Z = linkage(X, method=method, metric=metric)\n",
    "\n",
    "    # Create a 1-row, 2-column figure\n",
    "    fig, axes = plt.subplots(1, 2, figsize=(12, 5), tight_layout=True)\n",
    "\n",
    "    # Left subplot: Dendrogram\n",
    "    dendrogram(\n",
    "        Z,\n",
    "        color_threshold=color_threshold,  # Colors clusters above this distance\n",
    "        ax=axes[0]\n",
    "    )\n",
    "    axes[0].set_title(f\"Dendrogram ({method} linkage, {metric} metric)\")\n",
    "    axes[0].set_xlabel(\"Sample Index\")\n",
    "    axes[0].set_ylabel(\"Distance\")\n",
    "\n",
    "    # Right subplot: Scatter\n",
    "    # - color points by cluster membership from fcluster\n",
    "    labels = fcluster(Z, t=cut_value, criterion=criterion, depth=depth_value)\n",
    "    nunique = len(np.unique(labels))\n",
    "\n",
    "    # Quick scatter plot, color by cluster label\n",
    "    c_ = labels\n",
    "    title_ = (\n",
    "        f\"{nunique} Cluster(s) (criterion={criterion}, \"\n",
    "        f\"t={cut_value:.2f}, depth={depth_value})\"\n",
    "    )\n",
    "    if display_true_labels:\n",
    "        c_ = y\n",
    "        title_ = \"True Labels\"\n",
    "\n",
    "    scatter = axes[1].scatter(X[:, 0], X[:, 1], c=c_, cmap='rainbow', s=25)\n",
    "    for idx, row in enumerate(X):\n",
    "        axes[1].text(*row, f\"{idx:3d}\", va=\"bottom\", ha=\"left\")\n",
    "        \n",
    "    axes[1].set_title(title_)\n",
    "    axes[1].set_xlabel(\"Feature 1\")\n",
    "    axes[1].set_ylabel(\"Feature 2\")"
   ]
  },
  {
   "cell_type": "code",
   "execution_count": 3,
   "metadata": {},
   "outputs": [],
   "source": [
    "# Column 1: Dendrogram controls\n",
    "method_widget = Dropdown(\n",
    "    options=['single', 'complete', 'average', 'ward'],\n",
    "    value='ward',\n",
    "    description='Method:'\n",
    ")\n",
    "\n",
    "metric_widget = Dropdown(\n",
    "    options=['euclidean', 'cityblock', 'cosine'],\n",
    "    value='euclidean',\n",
    "    description='Metric:'\n",
    ")\n",
    "\n",
    "color_threshold_widget = FloatSlider(\n",
    "    value=0.0,\n",
    "    min=0.0,\n",
    "    max=15.0,\n",
    "    step=0.5,\n",
    "    description='Color thr:',\n",
    ")\n",
    "\n",
    "dendrogram_controls = VBox([method_widget, metric_widget, color_threshold_widget])\n",
    "\n",
    "# Column 2: fcluster controls\n",
    "criterion_widget = Dropdown(\n",
    "    options=[\"inconsistent\", 'distance', 'maxclust',],\n",
    "    value='maxclust',\n",
    "    description='Criterion:',\n",
    ")\n",
    "\n",
    "cut_value_widget = FloatSlider(\n",
    "    value=2.0,\n",
    "    min=1.0,\n",
    "    max=30.0,\n",
    "    step=0.5,\n",
    "    description='Cut value:',\n",
    ")\n",
    "\n",
    "depth_widget = IntSlider(\n",
    "    value=2,\n",
    "    min=1,\n",
    "    max=30,\n",
    "    description='Depth value:',\n",
    "    # disabled = criterion_widget.value != \"inconsistent\",\n",
    ")\n",
    "\n",
    "display_true_widget = Checkbox(\n",
    "    value=False,\n",
    "    description=\"Display True Labels\",\n",
    "    indent=True\n",
    ")\n",
    "\n",
    "fcluster_controls = VBox(\n",
    "    [display_true_widget, criterion_widget, cut_value_widget, depth_widget]\n",
    ")\n",
    "\n",
    "# Combine columns into one horizontal box\n",
    "controls_box = HBox([dendrogram_controls, fcluster_controls, ])"
   ]
  },
  {
   "cell_type": "code",
   "execution_count": 4,
   "metadata": {},
   "outputs": [],
   "source": [
    "np.random.seed(17)\n",
    "X0 = np.random.normal(loc=1.0, scale=1.0, size=(15, 2))\n",
    "X1 = np.random.normal(loc=5.0, scale=2.0, size=(10, 2))\n",
    "X = np.vstack([X0, X1])\n",
    "y = np.zeros(len(X))\n",
    "y[len(X0):] = 1"
   ]
  },
  {
   "cell_type": "code",
   "execution_count": 5,
   "metadata": {},
   "outputs": [],
   "source": [
    "out = interactive_output(\n",
    "    update_plot,\n",
    "    {\n",
    "        'method': method_widget,\n",
    "        'metric': metric_widget,\n",
    "        'color_threshold': color_threshold_widget,\n",
    "        'criterion': criterion_widget,\n",
    "        'cut_value': cut_value_widget,\n",
    "        'depth_value': depth_widget,\n",
    "        'display_true_labels': display_true_widget\n",
    "    }\n",
    ")"
   ]
  },
  {
   "cell_type": "code",
   "execution_count": 6,
   "metadata": {},
   "outputs": [
    {
     "data": {
      "application/vnd.jupyter.widget-view+json": {
       "model_id": "5fb4dee4b43d4bb583a3f762ffdd7031",
       "version_major": 2,
       "version_minor": 0
      },
      "text/plain": [
       "HBox(children=(VBox(children=(Dropdown(description='Method:', index=3, options=('single', 'complete', 'average…"
      ]
     },
     "metadata": {},
     "output_type": "display_data"
    },
    {
     "data": {
      "application/vnd.jupyter.widget-view+json": {
       "model_id": "d467ad94823e448b951a02da89fcaf1e",
       "version_major": 2,
       "version_minor": 0
      },
      "text/plain": [
       "Output()"
      ]
     },
     "metadata": {},
     "output_type": "display_data"
    }
   ],
   "source": [
    "# Display the controls and the output in the notebook\n",
    "display(controls_box, out)"
   ]
  },
  {
   "cell_type": "code",
   "execution_count": null,
   "metadata": {},
   "outputs": [],
   "source": []
  }
 ],
 "metadata": {
  "kernelspec": {
   "display_name": "st",
   "language": "python",
   "name": "python3"
  },
  "language_info": {
   "codemirror_mode": {
    "name": "ipython",
    "version": 3
   },
   "file_extension": ".py",
   "mimetype": "text/x-python",
   "name": "python",
   "nbconvert_exporter": "python",
   "pygments_lexer": "ipython3",
   "version": "3.12.3"
  }
 },
 "nbformat": 4,
 "nbformat_minor": 2
}
